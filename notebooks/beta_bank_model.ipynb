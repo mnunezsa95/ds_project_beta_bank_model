{
 "cells": [
  {
   "cell_type": "markdown",
   "metadata": {},
   "source": [
    "# Beta Bank "
   ]
  },
  {
   "cell_type": "markdown",
   "metadata": {},
   "source": [
    "## Introduction"
   ]
  },
  {
   "cell_type": "markdown",
   "metadata": {},
   "source": [
    "In the dynamic retail banking landscape, customer retention holds paramount importance for sustained growth and profitability. Beta Bank is witnessing a concerning trend: a gradual erosion of its customer base, leading to a significant impact on its financial performance. Recognizing the urgency of the situation, the bank has launched a project aimed at developing a predictive model capable of anticipating customer churn.\n",
    "\n",
    "The objective of this project is to utilize historical data on customer behavior and termination patterns to forecast the likelihood of customer attrition in the near future. By accurately identifying at-risk customers, Beta Bank can proactively implement retention strategies to safeguard its customer base and optimize operational efficiency.\n",
    "\n",
    "The primary performance metric for evaluating this predictive model is the F1 score, with a minimum threshold of 0.59 required for project approval. The F1 score, striking a balance between precision and recall, ensures reliable churn identification.\n",
    "\n",
    "Additionally, the model's performance will be assessed using the AUC-ROC (Area Under the Receiver Operating Characteristic curve) metric. A high AUC-ROC value indicates the model's effectiveness in distinguishing between churn and non-churn instances across various decision thresholds.\n",
    "\n",
    "Through this project, the goal is to deliver a robust predictive tool that empowers Beta Bank to preemptively address customer churn, fostering enduring customer relationships and sustaining the bank's competitive edge in the market. This initiative represents a strategic step towards enhancing Beta Bank's operational resilience and ensuring long-term success in the evolving banking landscape."
   ]
  },
  {
   "cell_type": "markdown",
   "metadata": {},
   "source": [
    "## Setup"
   ]
  },
  {
   "cell_type": "code",
   "execution_count": 1,
   "metadata": {},
   "outputs": [],
   "source": [
    "import pandas as pd\n",
    "import numpy as np\n",
    "import matplotlib.pyplot as plt\n",
    "from scipy import stats as st\n",
    "\n",
    "# Sklearn\n",
    "from sklearn.model_selection import train_test_split\n",
    "from sklearn.linear_model import LogisticRegression, LinearRegression\n",
    "from sklearn.tree import DecisionTreeClassifier, DecisionTreeRegressor\n",
    "from sklearn.ensemble import RandomForestClassifier, RandomForestRegressor\n",
    "\n",
    "from sklearn.preprocessing import LabelEncoder, OrdinalEncoder, StandardScaler\n",
    "from sklearn.metrics import accuracy_score, precision_score, recall_score, precision_recall_curve, f1_score, confusion_matrix, roc_curve, roc_auc_score\n",
    "from sklearn.utils import shuffle, resample\n",
    "\n",
    "pd.options.mode.chained_assignment = None"
   ]
  },
  {
   "cell_type": "code",
   "execution_count": 2,
   "metadata": {},
   "outputs": [
    {
     "name": "stdout",
     "output_type": "stream",
     "text": [
      "The data was loaded successfully!\n"
     ]
    }
   ],
   "source": [
    "try:\n",
    "    columns = ['row_number', 'customer_id', 'surname', 'credit_score', 'geography', 'gender', 'age', 'tenure', 'balance', 'num_of_products', 'has_cr_card', 'is_active_member', 'estimated_salary', 'exited']\n",
    "    data = pd.read_csv('../data/Churn.csv', header=0, names=columns)\n",
    "except FileNotFoundError as e:\n",
    "    print(f\"The error ({e}) occured while trying to load the data\")\n",
    "else:\n",
    "    print(f\"The data was loaded successfully!\")"
   ]
  },
  {
   "cell_type": "markdown",
   "metadata": {},
   "source": [
    "## Data Preparation"
   ]
  },
  {
   "cell_type": "code",
   "execution_count": 3,
   "metadata": {},
   "outputs": [
    {
     "data": {
      "text/plain": [
       "(10000, 14)"
      ]
     },
     "execution_count": 3,
     "metadata": {},
     "output_type": "execute_result"
    }
   ],
   "source": [
    "data.shape"
   ]
  },
  {
   "cell_type": "code",
   "execution_count": 4,
   "metadata": {},
   "outputs": [
    {
     "name": "stdout",
     "output_type": "stream",
     "text": [
      "<class 'pandas.core.frame.DataFrame'>\n",
      "RangeIndex: 10000 entries, 0 to 9999\n",
      "Data columns (total 14 columns):\n",
      " #   Column            Non-Null Count  Dtype  \n",
      "---  ------            --------------  -----  \n",
      " 0   row_number        10000 non-null  int64  \n",
      " 1   customer_id       10000 non-null  int64  \n",
      " 2   surname           10000 non-null  object \n",
      " 3   credit_score      10000 non-null  int64  \n",
      " 4   geography         10000 non-null  object \n",
      " 5   gender            10000 non-null  object \n",
      " 6   age               10000 non-null  int64  \n",
      " 7   tenure            9091 non-null   float64\n",
      " 8   balance           10000 non-null  float64\n",
      " 9   num_of_products   10000 non-null  int64  \n",
      " 10  has_cr_card       10000 non-null  int64  \n",
      " 11  is_active_member  10000 non-null  int64  \n",
      " 12  estimated_salary  10000 non-null  float64\n",
      " 13  exited            10000 non-null  int64  \n",
      "dtypes: float64(3), int64(8), object(3)\n",
      "memory usage: 1.1+ MB\n"
     ]
    }
   ],
   "source": [
    "# Look at data types and missing values\n",
    "\n",
    "data.info()"
   ]
  },
  {
   "cell_type": "markdown",
   "metadata": {},
   "source": [
    "The columns have the appropriate data types, although it appears that the tenure column contains missing values. The missing values will be filled using the median, because of the wide range of values. "
   ]
  },
  {
   "cell_type": "code",
   "execution_count": 5,
   "metadata": {},
   "outputs": [
    {
     "name": "stdout",
     "output_type": "stream",
     "text": [
      "Number of duplicated values: 0\n",
      "Number of missing values in 'tenure' column: 909\n"
     ]
    }
   ],
   "source": [
    "num_duplicated = data.duplicated().sum()\n",
    "num_missing = data['tenure'].isna().sum()\n",
    "\n",
    "print(f\"Number of duplicated values: {num_duplicated}\\nNumber of missing values in 'tenure' column: {num_missing}\")"
   ]
  },
  {
   "cell_type": "code",
   "execution_count": 6,
   "metadata": {
    "scrolled": true
   },
   "outputs": [
    {
     "data": {
      "text/html": [
       "<div>\n",
       "<style scoped>\n",
       "    .dataframe tbody tr th:only-of-type {\n",
       "        vertical-align: middle;\n",
       "    }\n",
       "\n",
       "    .dataframe tbody tr th {\n",
       "        vertical-align: top;\n",
       "    }\n",
       "\n",
       "    .dataframe thead th {\n",
       "        text-align: right;\n",
       "    }\n",
       "</style>\n",
       "<table border=\"1\" class=\"dataframe\">\n",
       "  <thead>\n",
       "    <tr style=\"text-align: right;\">\n",
       "      <th></th>\n",
       "      <th>row_number</th>\n",
       "      <th>customer_id</th>\n",
       "      <th>surname</th>\n",
       "      <th>credit_score</th>\n",
       "      <th>geography</th>\n",
       "      <th>gender</th>\n",
       "      <th>age</th>\n",
       "      <th>tenure</th>\n",
       "      <th>balance</th>\n",
       "      <th>num_of_products</th>\n",
       "      <th>has_cr_card</th>\n",
       "      <th>is_active_member</th>\n",
       "      <th>estimated_salary</th>\n",
       "      <th>exited</th>\n",
       "    </tr>\n",
       "  </thead>\n",
       "  <tbody>\n",
       "    <tr>\n",
       "      <th>4983</th>\n",
       "      <td>4984</td>\n",
       "      <td>15723721</td>\n",
       "      <td>Tinline</td>\n",
       "      <td>543</td>\n",
       "      <td>France</td>\n",
       "      <td>Male</td>\n",
       "      <td>30</td>\n",
       "      <td>NaN</td>\n",
       "      <td>140916.81</td>\n",
       "      <td>1</td>\n",
       "      <td>1</td>\n",
       "      <td>0</td>\n",
       "      <td>157711.18</td>\n",
       "      <td>0</td>\n",
       "    </tr>\n",
       "    <tr>\n",
       "      <th>5427</th>\n",
       "      <td>5428</td>\n",
       "      <td>15674149</td>\n",
       "      <td>Esomchi</td>\n",
       "      <td>599</td>\n",
       "      <td>Germany</td>\n",
       "      <td>Male</td>\n",
       "      <td>36</td>\n",
       "      <td>NaN</td>\n",
       "      <td>128960.21</td>\n",
       "      <td>2</td>\n",
       "      <td>1</td>\n",
       "      <td>1</td>\n",
       "      <td>40318.33</td>\n",
       "      <td>0</td>\n",
       "    </tr>\n",
       "    <tr>\n",
       "      <th>3739</th>\n",
       "      <td>3740</td>\n",
       "      <td>15801125</td>\n",
       "      <td>Kegley</td>\n",
       "      <td>627</td>\n",
       "      <td>France</td>\n",
       "      <td>Female</td>\n",
       "      <td>32</td>\n",
       "      <td>NaN</td>\n",
       "      <td>0.00</td>\n",
       "      <td>1</td>\n",
       "      <td>1</td>\n",
       "      <td>0</td>\n",
       "      <td>106851.70</td>\n",
       "      <td>0</td>\n",
       "    </tr>\n",
       "    <tr>\n",
       "      <th>5038</th>\n",
       "      <td>5039</td>\n",
       "      <td>15589230</td>\n",
       "      <td>Wu</td>\n",
       "      <td>612</td>\n",
       "      <td>France</td>\n",
       "      <td>Female</td>\n",
       "      <td>63</td>\n",
       "      <td>NaN</td>\n",
       "      <td>126473.33</td>\n",
       "      <td>1</td>\n",
       "      <td>0</td>\n",
       "      <td>1</td>\n",
       "      <td>147545.65</td>\n",
       "      <td>0</td>\n",
       "    </tr>\n",
       "    <tr>\n",
       "      <th>4974</th>\n",
       "      <td>4975</td>\n",
       "      <td>15744942</td>\n",
       "      <td>Steele</td>\n",
       "      <td>638</td>\n",
       "      <td>Spain</td>\n",
       "      <td>Female</td>\n",
       "      <td>55</td>\n",
       "      <td>NaN</td>\n",
       "      <td>155828.22</td>\n",
       "      <td>1</td>\n",
       "      <td>0</td>\n",
       "      <td>1</td>\n",
       "      <td>108987.25</td>\n",
       "      <td>1</td>\n",
       "    </tr>\n",
       "    <tr>\n",
       "      <th>8630</th>\n",
       "      <td>8631</td>\n",
       "      <td>15786042</td>\n",
       "      <td>Willmore</td>\n",
       "      <td>706</td>\n",
       "      <td>Germany</td>\n",
       "      <td>Female</td>\n",
       "      <td>44</td>\n",
       "      <td>NaN</td>\n",
       "      <td>185932.18</td>\n",
       "      <td>2</td>\n",
       "      <td>1</td>\n",
       "      <td>0</td>\n",
       "      <td>65413.41</td>\n",
       "      <td>0</td>\n",
       "    </tr>\n",
       "    <tr>\n",
       "      <th>7053</th>\n",
       "      <td>7054</td>\n",
       "      <td>15815271</td>\n",
       "      <td>Ritchie</td>\n",
       "      <td>755</td>\n",
       "      <td>Germany</td>\n",
       "      <td>Male</td>\n",
       "      <td>43</td>\n",
       "      <td>NaN</td>\n",
       "      <td>165048.50</td>\n",
       "      <td>3</td>\n",
       "      <td>1</td>\n",
       "      <td>0</td>\n",
       "      <td>16929.41</td>\n",
       "      <td>1</td>\n",
       "    </tr>\n",
       "    <tr>\n",
       "      <th>111</th>\n",
       "      <td>112</td>\n",
       "      <td>15665790</td>\n",
       "      <td>Rowntree</td>\n",
       "      <td>538</td>\n",
       "      <td>Germany</td>\n",
       "      <td>Male</td>\n",
       "      <td>39</td>\n",
       "      <td>NaN</td>\n",
       "      <td>108055.10</td>\n",
       "      <td>2</td>\n",
       "      <td>1</td>\n",
       "      <td>0</td>\n",
       "      <td>27231.26</td>\n",
       "      <td>0</td>\n",
       "    </tr>\n",
       "    <tr>\n",
       "      <th>4448</th>\n",
       "      <td>4449</td>\n",
       "      <td>15708162</td>\n",
       "      <td>Thomson</td>\n",
       "      <td>565</td>\n",
       "      <td>Germany</td>\n",
       "      <td>Female</td>\n",
       "      <td>40</td>\n",
       "      <td>NaN</td>\n",
       "      <td>89994.71</td>\n",
       "      <td>2</td>\n",
       "      <td>0</td>\n",
       "      <td>1</td>\n",
       "      <td>121084.27</td>\n",
       "      <td>0</td>\n",
       "    </tr>\n",
       "    <tr>\n",
       "      <th>6985</th>\n",
       "      <td>6986</td>\n",
       "      <td>15586699</td>\n",
       "      <td>Thomson</td>\n",
       "      <td>825</td>\n",
       "      <td>France</td>\n",
       "      <td>Male</td>\n",
       "      <td>32</td>\n",
       "      <td>NaN</td>\n",
       "      <td>0.00</td>\n",
       "      <td>2</td>\n",
       "      <td>0</td>\n",
       "      <td>0</td>\n",
       "      <td>9751.03</td>\n",
       "      <td>0</td>\n",
       "    </tr>\n",
       "  </tbody>\n",
       "</table>\n",
       "</div>"
      ],
      "text/plain": [
       "      row_number  customer_id   surname  credit_score geography  gender  age  \\\n",
       "4983        4984     15723721   Tinline           543    France    Male   30   \n",
       "5427        5428     15674149   Esomchi           599   Germany    Male   36   \n",
       "3739        3740     15801125    Kegley           627    France  Female   32   \n",
       "5038        5039     15589230        Wu           612    France  Female   63   \n",
       "4974        4975     15744942    Steele           638     Spain  Female   55   \n",
       "8630        8631     15786042  Willmore           706   Germany  Female   44   \n",
       "7053        7054     15815271   Ritchie           755   Germany    Male   43   \n",
       "111          112     15665790  Rowntree           538   Germany    Male   39   \n",
       "4448        4449     15708162   Thomson           565   Germany  Female   40   \n",
       "6985        6986     15586699   Thomson           825    France    Male   32   \n",
       "\n",
       "      tenure    balance  num_of_products  has_cr_card  is_active_member  \\\n",
       "4983     NaN  140916.81                1            1                 0   \n",
       "5427     NaN  128960.21                2            1                 1   \n",
       "3739     NaN       0.00                1            1                 0   \n",
       "5038     NaN  126473.33                1            0                 1   \n",
       "4974     NaN  155828.22                1            0                 1   \n",
       "8630     NaN  185932.18                2            1                 0   \n",
       "7053     NaN  165048.50                3            1                 0   \n",
       "111      NaN  108055.10                2            1                 0   \n",
       "4448     NaN   89994.71                2            0                 1   \n",
       "6985     NaN       0.00                2            0                 0   \n",
       "\n",
       "      estimated_salary  exited  \n",
       "4983         157711.18       0  \n",
       "5427          40318.33       0  \n",
       "3739         106851.70       0  \n",
       "5038         147545.65       0  \n",
       "4974         108987.25       1  \n",
       "8630          65413.41       0  \n",
       "7053          16929.41       1  \n",
       "111           27231.26       0  \n",
       "4448         121084.27       0  \n",
       "6985           9751.03       0  "
      ]
     },
     "execution_count": 6,
     "metadata": {},
     "output_type": "execute_result"
    }
   ],
   "source": [
    "# Observe random sample of the rows with missing values in 'tenure' col\n",
    "\n",
    "data[data['tenure'].isna()].sample(10)"
   ]
  },
  {
   "cell_type": "code",
   "execution_count": 7,
   "metadata": {
    "scrolled": true
   },
   "outputs": [
    {
     "data": {
      "text/html": [
       "<div>\n",
       "<style scoped>\n",
       "    .dataframe tbody tr th:only-of-type {\n",
       "        vertical-align: middle;\n",
       "    }\n",
       "\n",
       "    .dataframe tbody tr th {\n",
       "        vertical-align: top;\n",
       "    }\n",
       "\n",
       "    .dataframe thead th {\n",
       "        text-align: right;\n",
       "    }\n",
       "</style>\n",
       "<table border=\"1\" class=\"dataframe\">\n",
       "  <thead>\n",
       "    <tr style=\"text-align: right;\">\n",
       "      <th></th>\n",
       "      <th>row_number</th>\n",
       "      <th>customer_id</th>\n",
       "      <th>surname</th>\n",
       "      <th>credit_score</th>\n",
       "      <th>geography</th>\n",
       "      <th>gender</th>\n",
       "      <th>age</th>\n",
       "      <th>tenure</th>\n",
       "      <th>balance</th>\n",
       "      <th>num_of_products</th>\n",
       "      <th>has_cr_card</th>\n",
       "      <th>is_active_member</th>\n",
       "      <th>estimated_salary</th>\n",
       "      <th>exited</th>\n",
       "    </tr>\n",
       "  </thead>\n",
       "  <tbody>\n",
       "    <tr>\n",
       "      <th>2175</th>\n",
       "      <td>2176</td>\n",
       "      <td>15769254</td>\n",
       "      <td>Tuan</td>\n",
       "      <td>757</td>\n",
       "      <td>Germany</td>\n",
       "      <td>Female</td>\n",
       "      <td>34</td>\n",
       "      <td>9.0</td>\n",
       "      <td>101861.36</td>\n",
       "      <td>2</td>\n",
       "      <td>0</td>\n",
       "      <td>0</td>\n",
       "      <td>187011.96</td>\n",
       "      <td>0</td>\n",
       "    </tr>\n",
       "    <tr>\n",
       "      <th>4079</th>\n",
       "      <td>4080</td>\n",
       "      <td>15694601</td>\n",
       "      <td>Ankudinov</td>\n",
       "      <td>583</td>\n",
       "      <td>France</td>\n",
       "      <td>Female</td>\n",
       "      <td>31</td>\n",
       "      <td>NaN</td>\n",
       "      <td>158978.79</td>\n",
       "      <td>1</td>\n",
       "      <td>1</td>\n",
       "      <td>0</td>\n",
       "      <td>12538.92</td>\n",
       "      <td>0</td>\n",
       "    </tr>\n",
       "    <tr>\n",
       "      <th>4130</th>\n",
       "      <td>4131</td>\n",
       "      <td>15731669</td>\n",
       "      <td>Szabados</td>\n",
       "      <td>554</td>\n",
       "      <td>France</td>\n",
       "      <td>Male</td>\n",
       "      <td>39</td>\n",
       "      <td>2.0</td>\n",
       "      <td>129709.62</td>\n",
       "      <td>1</td>\n",
       "      <td>1</td>\n",
       "      <td>0</td>\n",
       "      <td>173197.12</td>\n",
       "      <td>0</td>\n",
       "    </tr>\n",
       "    <tr>\n",
       "      <th>9819</th>\n",
       "      <td>9820</td>\n",
       "      <td>15813946</td>\n",
       "      <td>Duffy</td>\n",
       "      <td>637</td>\n",
       "      <td>Germany</td>\n",
       "      <td>Male</td>\n",
       "      <td>51</td>\n",
       "      <td>1.0</td>\n",
       "      <td>104682.83</td>\n",
       "      <td>1</td>\n",
       "      <td>1</td>\n",
       "      <td>0</td>\n",
       "      <td>55266.96</td>\n",
       "      <td>1</td>\n",
       "    </tr>\n",
       "    <tr>\n",
       "      <th>2611</th>\n",
       "      <td>2612</td>\n",
       "      <td>15746564</td>\n",
       "      <td>O'Sullivan</td>\n",
       "      <td>566</td>\n",
       "      <td>France</td>\n",
       "      <td>Male</td>\n",
       "      <td>42</td>\n",
       "      <td>3.0</td>\n",
       "      <td>108010.78</td>\n",
       "      <td>1</td>\n",
       "      <td>1</td>\n",
       "      <td>1</td>\n",
       "      <td>157486.10</td>\n",
       "      <td>0</td>\n",
       "    </tr>\n",
       "    <tr>\n",
       "      <th>7468</th>\n",
       "      <td>7469</td>\n",
       "      <td>15627328</td>\n",
       "      <td>Millar</td>\n",
       "      <td>542</td>\n",
       "      <td>Spain</td>\n",
       "      <td>Female</td>\n",
       "      <td>26</td>\n",
       "      <td>2.0</td>\n",
       "      <td>0.00</td>\n",
       "      <td>2</td>\n",
       "      <td>1</td>\n",
       "      <td>1</td>\n",
       "      <td>54869.54</td>\n",
       "      <td>0</td>\n",
       "    </tr>\n",
       "    <tr>\n",
       "      <th>8528</th>\n",
       "      <td>8529</td>\n",
       "      <td>15636353</td>\n",
       "      <td>Buchi</td>\n",
       "      <td>534</td>\n",
       "      <td>Spain</td>\n",
       "      <td>Male</td>\n",
       "      <td>35</td>\n",
       "      <td>4.0</td>\n",
       "      <td>0.00</td>\n",
       "      <td>2</td>\n",
       "      <td>0</td>\n",
       "      <td>0</td>\n",
       "      <td>9541.15</td>\n",
       "      <td>0</td>\n",
       "    </tr>\n",
       "    <tr>\n",
       "      <th>1424</th>\n",
       "      <td>1425</td>\n",
       "      <td>15596671</td>\n",
       "      <td>Endrizzi</td>\n",
       "      <td>603</td>\n",
       "      <td>Spain</td>\n",
       "      <td>Female</td>\n",
       "      <td>42</td>\n",
       "      <td>8.0</td>\n",
       "      <td>91611.12</td>\n",
       "      <td>1</td>\n",
       "      <td>0</td>\n",
       "      <td>0</td>\n",
       "      <td>144675.30</td>\n",
       "      <td>1</td>\n",
       "    </tr>\n",
       "    <tr>\n",
       "      <th>4364</th>\n",
       "      <td>4365</td>\n",
       "      <td>15727408</td>\n",
       "      <td>Koo</td>\n",
       "      <td>523</td>\n",
       "      <td>Germany</td>\n",
       "      <td>Male</td>\n",
       "      <td>27</td>\n",
       "      <td>8.0</td>\n",
       "      <td>61688.61</td>\n",
       "      <td>2</td>\n",
       "      <td>1</td>\n",
       "      <td>0</td>\n",
       "      <td>147059.16</td>\n",
       "      <td>0</td>\n",
       "    </tr>\n",
       "    <tr>\n",
       "      <th>485</th>\n",
       "      <td>486</td>\n",
       "      <td>15637954</td>\n",
       "      <td>Lewis</td>\n",
       "      <td>730</td>\n",
       "      <td>France</td>\n",
       "      <td>Female</td>\n",
       "      <td>35</td>\n",
       "      <td>0.0</td>\n",
       "      <td>155470.55</td>\n",
       "      <td>1</td>\n",
       "      <td>1</td>\n",
       "      <td>1</td>\n",
       "      <td>53718.28</td>\n",
       "      <td>0</td>\n",
       "    </tr>\n",
       "  </tbody>\n",
       "</table>\n",
       "</div>"
      ],
      "text/plain": [
       "      row_number  customer_id     surname  credit_score geography  gender  \\\n",
       "2175        2176     15769254        Tuan           757   Germany  Female   \n",
       "4079        4080     15694601   Ankudinov           583    France  Female   \n",
       "4130        4131     15731669    Szabados           554    France    Male   \n",
       "9819        9820     15813946       Duffy           637   Germany    Male   \n",
       "2611        2612     15746564  O'Sullivan           566    France    Male   \n",
       "7468        7469     15627328      Millar           542     Spain  Female   \n",
       "8528        8529     15636353       Buchi           534     Spain    Male   \n",
       "1424        1425     15596671    Endrizzi           603     Spain  Female   \n",
       "4364        4365     15727408         Koo           523   Germany    Male   \n",
       "485          486     15637954       Lewis           730    France  Female   \n",
       "\n",
       "      age  tenure    balance  num_of_products  has_cr_card  is_active_member  \\\n",
       "2175   34     9.0  101861.36                2            0                 0   \n",
       "4079   31     NaN  158978.79                1            1                 0   \n",
       "4130   39     2.0  129709.62                1            1                 0   \n",
       "9819   51     1.0  104682.83                1            1                 0   \n",
       "2611   42     3.0  108010.78                1            1                 1   \n",
       "7468   26     2.0       0.00                2            1                 1   \n",
       "8528   35     4.0       0.00                2            0                 0   \n",
       "1424   42     8.0   91611.12                1            0                 0   \n",
       "4364   27     8.0   61688.61                2            1                 0   \n",
       "485    35     0.0  155470.55                1            1                 1   \n",
       "\n",
       "      estimated_salary  exited  \n",
       "2175         187011.96       0  \n",
       "4079          12538.92       0  \n",
       "4130         173197.12       0  \n",
       "9819          55266.96       1  \n",
       "2611         157486.10       0  \n",
       "7468          54869.54       0  \n",
       "8528           9541.15       0  \n",
       "1424         144675.30       1  \n",
       "4364         147059.16       0  \n",
       "485           53718.28       0  "
      ]
     },
     "execution_count": 7,
     "metadata": {},
     "output_type": "execute_result"
    }
   ],
   "source": [
    "# Observe random sample of the rows WITHOUT missing values in 'tenure' col\n",
    "\n",
    "data[data['tenure'] != 'NaN'].sample(10)"
   ]
  },
  {
   "cell_type": "code",
   "execution_count": 8,
   "metadata": {},
   "outputs": [
    {
     "name": "stdout",
     "output_type": "stream",
     "text": [
      "Number of missing values in 'tenure' column: 0\n"
     ]
    }
   ],
   "source": [
    "# Fill missing values with median\n",
    "median_value = data['tenure'].median()\n",
    "data['tenure'].fillna(median_value, inplace=True)\n",
    "\n",
    "# Reprint number of missing values\n",
    "num_missing = data['tenure'].isna().sum()\n",
    "print(f\"Number of missing values in 'tenure' column: {num_missing}\")"
   ]
  },
  {
   "cell_type": "markdown",
   "metadata": {},
   "source": [
    "## Feature Preparation"
   ]
  },
  {
   "cell_type": "code",
   "execution_count": 9,
   "metadata": {
    "scrolled": true
   },
   "outputs": [],
   "source": [
    "# Drop rows that will not be relevant to the model\n",
    "\n",
    "data = data.drop(['row_number', 'customer_id', 'surname'], axis=1)"
   ]
  },
  {
   "cell_type": "code",
   "execution_count": 10,
   "metadata": {},
   "outputs": [
    {
     "name": "stdout",
     "output_type": "stream",
     "text": [
      "Unique values in the geography column:['France' 'Spain' 'Germany']\n",
      "Unique values in the gender column:['Female' 'Male']\n"
     ]
    }
   ],
   "source": [
    "# Find unique values in 'gender' col\n",
    "gen_unique = data['gender'].unique()\n",
    "\n",
    "# Find unique values in 'geography' col\n",
    "geo_unique = data['geography'].unique()\n",
    "\n",
    "print(f\"Unique values in the geography column:{geo_unique}\\nUnique values in the gender column:{gen_unique}\")"
   ]
  },
  {
   "cell_type": "markdown",
   "metadata": {},
   "source": [
    "The geography and gender columns are of the object data type, which will not work with machine learning. These values need to be converted to a numerical value, using one-hot encoding that can be used in machine learning. "
   ]
  },
  {
   "cell_type": "code",
   "execution_count": 11,
   "metadata": {},
   "outputs": [],
   "source": [
    "# Grab columns with 'object' data type\n",
    "object_cols = data.select_dtypes(include=['object']).columns\n",
    "\n",
    "data = pd.get_dummies(data, columns=object_cols, drop_first=True)"
   ]
  },
  {
   "cell_type": "markdown",
   "metadata": {},
   "source": [
    "Since only one dataset is available, the source data will be divided into a split of 3:1:1. This allocation designates 60% of the data for training, while 20% is reserved for both validation and testing purposes."
   ]
  },
  {
   "cell_type": "code",
   "execution_count": 12,
   "metadata": {},
   "outputs": [],
   "source": [
    "# Function to split data into 3:1:1 ratio and return the three datasets\n",
    "\n",
    "def split_data_3_1_1(dataset, test_s=0.40, rnd_state=42, shuffle=True):\n",
    "    '''Prints a statement specifying the data-split used and returns 3 variables for the train, validation and test datasets respectively'''\n",
    "    \n",
    "    # Splitting the source data into 40% for Validation (to be split again) and 60% for Training\n",
    "    df_train, df_valid = train_test_split(dataset, test_size=test_s, shuffle=True, random_state=rnd_state)\n",
    "\n",
    "    # Further splitting the df_valid data 50/50 (40% from previous task) to obtain 3:1:1 ratio\n",
    "    df_test, df_valid = train_test_split(df_valid, test_size=(test_s + .10), shuffle=True, random_state=rnd_state)\n",
    "    \n",
    "    # Printing confirmation of data split\n",
    "    sum_of_datasets = len(df_train) + len(df_valid) + len(df_test)\n",
    "    if len(data) == sum_of_datasets:\n",
    "        print(f\"Data split ratio is 3:1:1, where data split is allocated as:\\nTraining = 60% [shape={df_train.shape}]\\nValidation = 20% [shape={df_valid.shape}]\\nTesting = 20% [shape={df_test.shape}]\")\n",
    "    \n",
    "    return df_train, df_valid, df_test\n",
    "\n",
    "\n",
    "# Function to declare the features and target from dataset\n",
    "def prepare_data(dataset, drop_cols, target_col):\n",
    "    '''Returns the features and target for a given dataset'''\n",
    "    features = dataset.drop(drop_cols, axis=1)\n",
    "    target = dataset[target_col]\n",
    "    \n",
    "    return features, target"
   ]
  },
  {
   "cell_type": "code",
   "execution_count": 13,
   "metadata": {},
   "outputs": [
    {
     "name": "stdout",
     "output_type": "stream",
     "text": [
      "Data split ratio is 3:1:1, where data split is allocated as:\n",
      "Training = 60% [shape=(6000, 12)]\n",
      "Validation = 20% [shape=(2000, 12)]\n",
      "Testing = 20% [shape=(2000, 12)]\n"
     ]
    }
   ],
   "source": [
    "# Create train, validation and test dataset\n",
    "df_train, df_valid, df_test = split_data_3_1_1(data, 0.40, 24681)\n",
    "\n",
    "# Declare the train, validation, and test features & target\n",
    "train_features, train_target = prepare_data(df_train, ['exited'], 'exited')\n",
    "valid_features, valid_target = prepare_data(df_valid, ['exited'], 'exited')\n",
    "test_features, test_target = prepare_data(df_test, ['exited'], 'exited')"
   ]
  },
  {
   "cell_type": "code",
   "execution_count": 14,
   "metadata": {},
   "outputs": [
    {
     "data": {
      "text/html": [
       "<div>\n",
       "<style scoped>\n",
       "    .dataframe tbody tr th:only-of-type {\n",
       "        vertical-align: middle;\n",
       "    }\n",
       "\n",
       "    .dataframe tbody tr th {\n",
       "        vertical-align: top;\n",
       "    }\n",
       "\n",
       "    .dataframe thead th {\n",
       "        text-align: right;\n",
       "    }\n",
       "</style>\n",
       "<table border=\"1\" class=\"dataframe\">\n",
       "  <thead>\n",
       "    <tr style=\"text-align: right;\">\n",
       "      <th></th>\n",
       "      <th>credit_score</th>\n",
       "      <th>age</th>\n",
       "      <th>tenure</th>\n",
       "      <th>balance</th>\n",
       "      <th>num_of_products</th>\n",
       "      <th>has_cr_card</th>\n",
       "      <th>is_active_member</th>\n",
       "      <th>estimated_salary</th>\n",
       "      <th>exited</th>\n",
       "      <th>geography_Germany</th>\n",
       "      <th>geography_Spain</th>\n",
       "      <th>gender_Male</th>\n",
       "    </tr>\n",
       "  </thead>\n",
       "  <tbody>\n",
       "    <tr>\n",
       "      <th>8384</th>\n",
       "      <td>755</td>\n",
       "      <td>34</td>\n",
       "      <td>3.0</td>\n",
       "      <td>0.00</td>\n",
       "      <td>2</td>\n",
       "      <td>1</td>\n",
       "      <td>1</td>\n",
       "      <td>158816.03</td>\n",
       "      <td>0</td>\n",
       "      <td>False</td>\n",
       "      <td>False</td>\n",
       "      <td>True</td>\n",
       "    </tr>\n",
       "    <tr>\n",
       "      <th>2187</th>\n",
       "      <td>699</td>\n",
       "      <td>34</td>\n",
       "      <td>8.0</td>\n",
       "      <td>0.00</td>\n",
       "      <td>1</td>\n",
       "      <td>1</td>\n",
       "      <td>1</td>\n",
       "      <td>76510.46</td>\n",
       "      <td>0</td>\n",
       "      <td>False</td>\n",
       "      <td>True</td>\n",
       "      <td>True</td>\n",
       "    </tr>\n",
       "    <tr>\n",
       "      <th>2974</th>\n",
       "      <td>565</td>\n",
       "      <td>59</td>\n",
       "      <td>9.0</td>\n",
       "      <td>69129.59</td>\n",
       "      <td>1</td>\n",
       "      <td>1</td>\n",
       "      <td>1</td>\n",
       "      <td>170705.53</td>\n",
       "      <td>0</td>\n",
       "      <td>True</td>\n",
       "      <td>False</td>\n",
       "      <td>True</td>\n",
       "    </tr>\n",
       "    <tr>\n",
       "      <th>4760</th>\n",
       "      <td>850</td>\n",
       "      <td>40</td>\n",
       "      <td>1.0</td>\n",
       "      <td>76914.21</td>\n",
       "      <td>1</td>\n",
       "      <td>1</td>\n",
       "      <td>0</td>\n",
       "      <td>174183.44</td>\n",
       "      <td>0</td>\n",
       "      <td>False</td>\n",
       "      <td>False</td>\n",
       "      <td>True</td>\n",
       "    </tr>\n",
       "    <tr>\n",
       "      <th>9814</th>\n",
       "      <td>631</td>\n",
       "      <td>36</td>\n",
       "      <td>1.0</td>\n",
       "      <td>0.00</td>\n",
       "      <td>2</td>\n",
       "      <td>0</td>\n",
       "      <td>0</td>\n",
       "      <td>133141.34</td>\n",
       "      <td>0</td>\n",
       "      <td>False</td>\n",
       "      <td>False</td>\n",
       "      <td>True</td>\n",
       "    </tr>\n",
       "  </tbody>\n",
       "</table>\n",
       "</div>"
      ],
      "text/plain": [
       "      credit_score  age  tenure   balance  num_of_products  has_cr_card  \\\n",
       "8384           755   34     3.0      0.00                2            1   \n",
       "2187           699   34     8.0      0.00                1            1   \n",
       "2974           565   59     9.0  69129.59                1            1   \n",
       "4760           850   40     1.0  76914.21                1            1   \n",
       "9814           631   36     1.0      0.00                2            0   \n",
       "\n",
       "      is_active_member  estimated_salary  exited  geography_Germany  \\\n",
       "8384                 1         158816.03       0              False   \n",
       "2187                 1          76510.46       0              False   \n",
       "2974                 1         170705.53       0               True   \n",
       "4760                 0         174183.44       0              False   \n",
       "9814                 0         133141.34       0              False   \n",
       "\n",
       "      geography_Spain  gender_Male  \n",
       "8384            False         True  \n",
       "2187             True         True  \n",
       "2974            False         True  \n",
       "4760            False         True  \n",
       "9814            False         True  "
      ]
     },
     "execution_count": 14,
     "metadata": {},
     "output_type": "execute_result"
    }
   ],
   "source": [
    "# Observe the train dataset\n",
    "\n",
    "df_train.head(5)"
   ]
  },
  {
   "cell_type": "code",
   "execution_count": 15,
   "metadata": {
    "scrolled": true
   },
   "outputs": [
    {
     "data": {
      "text/html": [
       "<div>\n",
       "<style scoped>\n",
       "    .dataframe tbody tr th:only-of-type {\n",
       "        vertical-align: middle;\n",
       "    }\n",
       "\n",
       "    .dataframe tbody tr th {\n",
       "        vertical-align: top;\n",
       "    }\n",
       "\n",
       "    .dataframe thead th {\n",
       "        text-align: right;\n",
       "    }\n",
       "</style>\n",
       "<table border=\"1\" class=\"dataframe\">\n",
       "  <thead>\n",
       "    <tr style=\"text-align: right;\">\n",
       "      <th></th>\n",
       "      <th>credit_score</th>\n",
       "      <th>age</th>\n",
       "      <th>tenure</th>\n",
       "      <th>balance</th>\n",
       "      <th>num_of_products</th>\n",
       "      <th>has_cr_card</th>\n",
       "      <th>is_active_member</th>\n",
       "      <th>estimated_salary</th>\n",
       "      <th>exited</th>\n",
       "      <th>geography_Germany</th>\n",
       "      <th>geography_Spain</th>\n",
       "      <th>gender_Male</th>\n",
       "    </tr>\n",
       "  </thead>\n",
       "  <tbody>\n",
       "    <tr>\n",
       "      <th>1892</th>\n",
       "      <td>634</td>\n",
       "      <td>31</td>\n",
       "      <td>8.0</td>\n",
       "      <td>76798.92</td>\n",
       "      <td>1</td>\n",
       "      <td>0</td>\n",
       "      <td>0</td>\n",
       "      <td>196021.73</td>\n",
       "      <td>0</td>\n",
       "      <td>True</td>\n",
       "      <td>False</td>\n",
       "      <td>False</td>\n",
       "    </tr>\n",
       "    <tr>\n",
       "      <th>6724</th>\n",
       "      <td>752</td>\n",
       "      <td>41</td>\n",
       "      <td>8.0</td>\n",
       "      <td>0.00</td>\n",
       "      <td>2</td>\n",
       "      <td>1</td>\n",
       "      <td>0</td>\n",
       "      <td>139844.04</td>\n",
       "      <td>1</td>\n",
       "      <td>False</td>\n",
       "      <td>False</td>\n",
       "      <td>False</td>\n",
       "    </tr>\n",
       "    <tr>\n",
       "      <th>1558</th>\n",
       "      <td>571</td>\n",
       "      <td>35</td>\n",
       "      <td>1.0</td>\n",
       "      <td>104783.81</td>\n",
       "      <td>2</td>\n",
       "      <td>0</td>\n",
       "      <td>1</td>\n",
       "      <td>178512.52</td>\n",
       "      <td>0</td>\n",
       "      <td>False</td>\n",
       "      <td>False</td>\n",
       "      <td>False</td>\n",
       "    </tr>\n",
       "    <tr>\n",
       "      <th>7100</th>\n",
       "      <td>650</td>\n",
       "      <td>24</td>\n",
       "      <td>5.0</td>\n",
       "      <td>108881.73</td>\n",
       "      <td>1</td>\n",
       "      <td>1</td>\n",
       "      <td>0</td>\n",
       "      <td>104492.83</td>\n",
       "      <td>0</td>\n",
       "      <td>False</td>\n",
       "      <td>True</td>\n",
       "      <td>True</td>\n",
       "    </tr>\n",
       "    <tr>\n",
       "      <th>329</th>\n",
       "      <td>664</td>\n",
       "      <td>26</td>\n",
       "      <td>5.0</td>\n",
       "      <td>116244.14</td>\n",
       "      <td>2</td>\n",
       "      <td>1</td>\n",
       "      <td>1</td>\n",
       "      <td>95145.14</td>\n",
       "      <td>0</td>\n",
       "      <td>True</td>\n",
       "      <td>False</td>\n",
       "      <td>True</td>\n",
       "    </tr>\n",
       "  </tbody>\n",
       "</table>\n",
       "</div>"
      ],
      "text/plain": [
       "      credit_score  age  tenure    balance  num_of_products  has_cr_card  \\\n",
       "1892           634   31     8.0   76798.92                1            0   \n",
       "6724           752   41     8.0       0.00                2            1   \n",
       "1558           571   35     1.0  104783.81                2            0   \n",
       "7100           650   24     5.0  108881.73                1            1   \n",
       "329            664   26     5.0  116244.14                2            1   \n",
       "\n",
       "      is_active_member  estimated_salary  exited  geography_Germany  \\\n",
       "1892                 0         196021.73       0               True   \n",
       "6724                 0         139844.04       1              False   \n",
       "1558                 1         178512.52       0              False   \n",
       "7100                 0         104492.83       0              False   \n",
       "329                  1          95145.14       0               True   \n",
       "\n",
       "      geography_Spain  gender_Male  \n",
       "1892            False        False  \n",
       "6724            False        False  \n",
       "1558            False        False  \n",
       "7100             True         True  \n",
       "329             False         True  "
      ]
     },
     "execution_count": 15,
     "metadata": {},
     "output_type": "execute_result"
    }
   ],
   "source": [
    "# Observe the validation dataset\n",
    "\n",
    "df_valid.head(5)"
   ]
  },
  {
   "cell_type": "code",
   "execution_count": 16,
   "metadata": {
    "scrolled": true
   },
   "outputs": [
    {
     "data": {
      "text/html": [
       "<div>\n",
       "<style scoped>\n",
       "    .dataframe tbody tr th:only-of-type {\n",
       "        vertical-align: middle;\n",
       "    }\n",
       "\n",
       "    .dataframe tbody tr th {\n",
       "        vertical-align: top;\n",
       "    }\n",
       "\n",
       "    .dataframe thead th {\n",
       "        text-align: right;\n",
       "    }\n",
       "</style>\n",
       "<table border=\"1\" class=\"dataframe\">\n",
       "  <thead>\n",
       "    <tr style=\"text-align: right;\">\n",
       "      <th></th>\n",
       "      <th>credit_score</th>\n",
       "      <th>age</th>\n",
       "      <th>tenure</th>\n",
       "      <th>balance</th>\n",
       "      <th>num_of_products</th>\n",
       "      <th>has_cr_card</th>\n",
       "      <th>is_active_member</th>\n",
       "      <th>estimated_salary</th>\n",
       "      <th>exited</th>\n",
       "      <th>geography_Germany</th>\n",
       "      <th>geography_Spain</th>\n",
       "      <th>gender_Male</th>\n",
       "    </tr>\n",
       "  </thead>\n",
       "  <tbody>\n",
       "    <tr>\n",
       "      <th>9254</th>\n",
       "      <td>686</td>\n",
       "      <td>32</td>\n",
       "      <td>6.0</td>\n",
       "      <td>0.00</td>\n",
       "      <td>2</td>\n",
       "      <td>1</td>\n",
       "      <td>1</td>\n",
       "      <td>179093.26</td>\n",
       "      <td>0</td>\n",
       "      <td>False</td>\n",
       "      <td>False</td>\n",
       "      <td>True</td>\n",
       "    </tr>\n",
       "    <tr>\n",
       "      <th>5088</th>\n",
       "      <td>543</td>\n",
       "      <td>42</td>\n",
       "      <td>4.0</td>\n",
       "      <td>89838.71</td>\n",
       "      <td>3</td>\n",
       "      <td>1</td>\n",
       "      <td>0</td>\n",
       "      <td>85983.54</td>\n",
       "      <td>1</td>\n",
       "      <td>False</td>\n",
       "      <td>False</td>\n",
       "      <td>True</td>\n",
       "    </tr>\n",
       "    <tr>\n",
       "      <th>2516</th>\n",
       "      <td>814</td>\n",
       "      <td>36</td>\n",
       "      <td>6.0</td>\n",
       "      <td>0.00</td>\n",
       "      <td>2</td>\n",
       "      <td>1</td>\n",
       "      <td>1</td>\n",
       "      <td>98657.01</td>\n",
       "      <td>0</td>\n",
       "      <td>False</td>\n",
       "      <td>False</td>\n",
       "      <td>False</td>\n",
       "    </tr>\n",
       "    <tr>\n",
       "      <th>1834</th>\n",
       "      <td>700</td>\n",
       "      <td>46</td>\n",
       "      <td>5.0</td>\n",
       "      <td>56580.95</td>\n",
       "      <td>2</td>\n",
       "      <td>0</td>\n",
       "      <td>1</td>\n",
       "      <td>45424.13</td>\n",
       "      <td>0</td>\n",
       "      <td>False</td>\n",
       "      <td>True</td>\n",
       "      <td>False</td>\n",
       "    </tr>\n",
       "    <tr>\n",
       "      <th>622</th>\n",
       "      <td>535</td>\n",
       "      <td>53</td>\n",
       "      <td>5.0</td>\n",
       "      <td>141616.55</td>\n",
       "      <td>2</td>\n",
       "      <td>1</td>\n",
       "      <td>1</td>\n",
       "      <td>75888.65</td>\n",
       "      <td>0</td>\n",
       "      <td>True</td>\n",
       "      <td>False</td>\n",
       "      <td>False</td>\n",
       "    </tr>\n",
       "  </tbody>\n",
       "</table>\n",
       "</div>"
      ],
      "text/plain": [
       "      credit_score  age  tenure    balance  num_of_products  has_cr_card  \\\n",
       "9254           686   32     6.0       0.00                2            1   \n",
       "5088           543   42     4.0   89838.71                3            1   \n",
       "2516           814   36     6.0       0.00                2            1   \n",
       "1834           700   46     5.0   56580.95                2            0   \n",
       "622            535   53     5.0  141616.55                2            1   \n",
       "\n",
       "      is_active_member  estimated_salary  exited  geography_Germany  \\\n",
       "9254                 1         179093.26       0              False   \n",
       "5088                 0          85983.54       1              False   \n",
       "2516                 1          98657.01       0              False   \n",
       "1834                 1          45424.13       0              False   \n",
       "622                  1          75888.65       0               True   \n",
       "\n",
       "      geography_Spain  gender_Male  \n",
       "9254            False         True  \n",
       "5088            False         True  \n",
       "2516            False        False  \n",
       "1834             True        False  \n",
       "622             False        False  "
      ]
     },
     "execution_count": 16,
     "metadata": {},
     "output_type": "execute_result"
    }
   ],
   "source": [
    "# Observe the test dataset\n",
    "\n",
    "df_test.head(5)"
   ]
  },
  {
   "cell_type": "markdown",
   "metadata": {},
   "source": [
    "The numeric columns in the datasets exhibit a diverse range of values. The credit_score, age, tenure, balance, num_of_products, and estimated_salary columns all display a wide spectrum of values. To address this variability, these columns require standardization using a scaler."
   ]
  },
  {
   "cell_type": "code",
   "execution_count": 17,
   "metadata": {},
   "outputs": [],
   "source": [
    "# Fit the features on the three datasets\n",
    "numeric = ['credit_score', 'age', 'tenure', 'balance', 'num_of_products', 'estimated_salary']\n",
    "scaler = StandardScaler()\n",
    "\n",
    "scaler.fit(train_features[numeric])\n",
    "\n",
    "train_features[numeric] = scaler.transform(train_features[numeric])\n",
    "valid_features[numeric] = scaler.transform(valid_features[numeric])\n",
    "test_features[numeric] = scaler.transform(test_features[numeric])"
   ]
  },
  {
   "cell_type": "code",
   "execution_count": 18,
   "metadata": {
    "scrolled": true
   },
   "outputs": [
    {
     "data": {
      "text/html": [
       "<div>\n",
       "<style scoped>\n",
       "    .dataframe tbody tr th:only-of-type {\n",
       "        vertical-align: middle;\n",
       "    }\n",
       "\n",
       "    .dataframe tbody tr th {\n",
       "        vertical-align: top;\n",
       "    }\n",
       "\n",
       "    .dataframe thead th {\n",
       "        text-align: right;\n",
       "    }\n",
       "</style>\n",
       "<table border=\"1\" class=\"dataframe\">\n",
       "  <thead>\n",
       "    <tr style=\"text-align: right;\">\n",
       "      <th></th>\n",
       "      <th>credit_score</th>\n",
       "      <th>age</th>\n",
       "      <th>tenure</th>\n",
       "      <th>balance</th>\n",
       "      <th>num_of_products</th>\n",
       "      <th>has_cr_card</th>\n",
       "      <th>is_active_member</th>\n",
       "      <th>estimated_salary</th>\n",
       "      <th>geography_Germany</th>\n",
       "      <th>geography_Spain</th>\n",
       "      <th>gender_Male</th>\n",
       "    </tr>\n",
       "  </thead>\n",
       "  <tbody>\n",
       "    <tr>\n",
       "      <th>1892</th>\n",
       "      <td>-0.170053</td>\n",
       "      <td>-0.746397</td>\n",
       "      <td>1.074465</td>\n",
       "      <td>0.001407</td>\n",
       "      <td>-0.904524</td>\n",
       "      <td>0</td>\n",
       "      <td>0</td>\n",
       "      <td>1.678152</td>\n",
       "      <td>True</td>\n",
       "      <td>False</td>\n",
       "      <td>False</td>\n",
       "    </tr>\n",
       "    <tr>\n",
       "      <th>6724</th>\n",
       "      <td>1.061746</td>\n",
       "      <td>0.194202</td>\n",
       "      <td>1.074465</td>\n",
       "      <td>-1.236040</td>\n",
       "      <td>0.833831</td>\n",
       "      <td>1</td>\n",
       "      <td>0</td>\n",
       "      <td>0.701775</td>\n",
       "      <td>False</td>\n",
       "      <td>False</td>\n",
       "      <td>False</td>\n",
       "    </tr>\n",
       "    <tr>\n",
       "      <th>1558</th>\n",
       "      <td>-0.827708</td>\n",
       "      <td>-0.370157</td>\n",
       "      <td>-1.453547</td>\n",
       "      <td>0.452322</td>\n",
       "      <td>0.833831</td>\n",
       "      <td>0</td>\n",
       "      <td>1</td>\n",
       "      <td>1.373839</td>\n",
       "      <td>False</td>\n",
       "      <td>False</td>\n",
       "      <td>False</td>\n",
       "    </tr>\n",
       "    <tr>\n",
       "      <th>7100</th>\n",
       "      <td>-0.003029</td>\n",
       "      <td>-1.404817</td>\n",
       "      <td>-0.008968</td>\n",
       "      <td>0.518351</td>\n",
       "      <td>-0.904524</td>\n",
       "      <td>1</td>\n",
       "      <td>0</td>\n",
       "      <td>0.087366</td>\n",
       "      <td>False</td>\n",
       "      <td>True</td>\n",
       "      <td>True</td>\n",
       "    </tr>\n",
       "    <tr>\n",
       "      <th>329</th>\n",
       "      <td>0.143117</td>\n",
       "      <td>-1.216697</td>\n",
       "      <td>-0.008968</td>\n",
       "      <td>0.636980</td>\n",
       "      <td>0.833831</td>\n",
       "      <td>1</td>\n",
       "      <td>1</td>\n",
       "      <td>-0.075098</td>\n",
       "      <td>True</td>\n",
       "      <td>False</td>\n",
       "      <td>True</td>\n",
       "    </tr>\n",
       "  </tbody>\n",
       "</table>\n",
       "</div>"
      ],
      "text/plain": [
       "      credit_score       age    tenure   balance  num_of_products  \\\n",
       "1892     -0.170053 -0.746397  1.074465  0.001407        -0.904524   \n",
       "6724      1.061746  0.194202  1.074465 -1.236040         0.833831   \n",
       "1558     -0.827708 -0.370157 -1.453547  0.452322         0.833831   \n",
       "7100     -0.003029 -1.404817 -0.008968  0.518351        -0.904524   \n",
       "329       0.143117 -1.216697 -0.008968  0.636980         0.833831   \n",
       "\n",
       "      has_cr_card  is_active_member  estimated_salary  geography_Germany  \\\n",
       "1892            0                 0          1.678152               True   \n",
       "6724            1                 0          0.701775              False   \n",
       "1558            0                 1          1.373839              False   \n",
       "7100            1                 0          0.087366              False   \n",
       "329             1                 1         -0.075098               True   \n",
       "\n",
       "      geography_Spain  gender_Male  \n",
       "1892            False        False  \n",
       "6724            False        False  \n",
       "1558            False        False  \n",
       "7100             True         True  \n",
       "329             False         True  "
      ]
     },
     "execution_count": 18,
     "metadata": {},
     "output_type": "execute_result"
    }
   ],
   "source": [
    "# Re-examine the features after sclaing\n",
    "valid_features.head(5)"
   ]
  },
  {
   "cell_type": "code",
   "execution_count": 19,
   "metadata": {},
   "outputs": [],
   "source": [
    "# Create function to calculate common classification metrics\n",
    "\n",
    "def calculate_classification_metrics(y_true, y_pred):\n",
    "    '''Calculates and returns basic evaluation metrics for classification tasks'''\n",
    "    accuracy = accuracy_score(y_true, y_pred)\n",
    "    recall = recall_score(y_true, y_pred)\n",
    "    precision = precision_score(y_true, y_pred)\n",
    "    conf_matrix = confusion_matrix(y_true, y_pred)\n",
    "    f1 = f1_score(y_true, y_pred)\n",
    "    \n",
    "    print(f\"Accuracy: {round(accuracy, 4)}\")\n",
    "    print(f\"Recall: {round(recall, 4)}\")\n",
    "    print(f\"Precision: {round(precision, 4)}\")\n",
    "    print(f\"F1 Score: {round(f1, 4)}\")\n",
    "    print(f\"Confusion Matrix:\\n{conf_matrix}\")\n",
    "    \n",
    "    return accuracy, recall, precision, conf_matrix, f1"
   ]
  },
  {
   "cell_type": "markdown",
   "metadata": {},
   "source": [
    "## Initial Training (Unbalanced)"
   ]
  },
  {
   "cell_type": "markdown",
   "metadata": {},
   "source": [
    "### Decision Tree Classification (Unbalanced)"
   ]
  },
  {
   "cell_type": "code",
   "execution_count": 20,
   "metadata": {},
   "outputs": [
    {
     "name": "stdout",
     "output_type": "stream",
     "text": [
      "Accuracy of the best model: 0.8595\n",
      "Depth of the best model: 7\n"
     ]
    }
   ],
   "source": [
    "# Find the best conditions\n",
    "\n",
    "best_model = None\n",
    "best_result = 0\n",
    "best_depth = 0\n",
    "\n",
    "for depth in range(1, 21):\n",
    "    model = DecisionTreeClassifier(random_state=24681, max_depth=depth)\n",
    "    model.fit(train_features, train_target)\n",
    "    valid_predictions = model.predict(valid_features)\n",
    "    result = accuracy_score(valid_target, valid_predictions) \n",
    "    \n",
    "    if result > best_result:\n",
    "        best_model = model\n",
    "        best_result = result\n",
    "        best_depth = depth\n",
    "        \n",
    "print(f\"Accuracy of the best model: {best_result}\\nDepth of the best model: {best_depth}\")"
   ]
  },
  {
   "cell_type": "code",
   "execution_count": 21,
   "metadata": {},
   "outputs": [
    {
     "name": "stdout",
     "output_type": "stream",
     "text": [
      "Tree Classifier Scores (Unbalanced):\n",
      "Accuracy: 0.8595\n",
      "Recall: 0.4917\n",
      "Precision: 0.7555\n",
      "F1 Score: 0.5957\n",
      "Confusion Matrix:\n",
      "[[1512   67]\n",
      " [ 214  207]]\n"
     ]
    }
   ],
   "source": [
    "# Test the model using validation data\n",
    "\n",
    "model = DecisionTreeClassifier(random_state=24681, max_depth=7)\n",
    "model.fit(train_features, train_target)\n",
    "valid_predictions = model.predict(valid_features)\n",
    "\n",
    "print(f\"Tree Classifier Scores (Unbalanced):\")\n",
    "accuracy, recall, precision, conf_matrix, f1 = calculate_classification_metrics(valid_target, valid_predictions)"
   ]
  },
  {
   "cell_type": "markdown",
   "metadata": {},
   "source": [
    "### Random Forest Classification (Unbalanced)"
   ]
  },
  {
   "cell_type": "code",
   "execution_count": 22,
   "metadata": {},
   "outputs": [
    {
     "name": "stdout",
     "output_type": "stream",
     "text": [
      "Accuracy of the best model: 0.855\n",
      "Number of estimators of the best model: 19\n"
     ]
    }
   ],
   "source": [
    "# Find the best conditions\n",
    "\n",
    "best_model_forest = None\n",
    "best_result_forest = 0\n",
    "best_est_forest = 0\n",
    "\n",
    "for est in range(1, 20):\n",
    "    model = RandomForestClassifier(random_state=24681, n_estimators=est)\n",
    "    model.fit(train_features, train_target)\n",
    "    valid_predictions = model.predict(valid_features)\n",
    "    result = accuracy_score(valid_target, valid_predictions) \n",
    "    if result > best_result_forest:\n",
    "        best_model_forest = model\n",
    "        best_result_forest = result\n",
    "        best_est_forest = est\n",
    "        \n",
    "print(f\"Accuracy of the best model: {best_result_forest}\\nNumber of estimators of the best model: {est}\")"
   ]
  },
  {
   "cell_type": "code",
   "execution_count": 23,
   "metadata": {},
   "outputs": [
    {
     "name": "stdout",
     "output_type": "stream",
     "text": [
      "Random Forest Classification Scores (Unbalanced):\n",
      "Accuracy: 0.8535\n",
      "Recall: 0.5036\n",
      "Precision: 0.7162\n",
      "F1 Score: 0.5914\n",
      "Confusion Matrix:\n",
      "[[1495   84]\n",
      " [ 209  212]]\n"
     ]
    }
   ],
   "source": [
    "# Test the model using validation data\n",
    "\n",
    "model = RandomForestClassifier(random_state=24681, n_estimators=19)\n",
    "model.fit(train_features, train_target)\n",
    "valid_predictions = model.predict(valid_features)\n",
    "\n",
    "print(f\"Random Forest Classification Scores (Unbalanced):\")\n",
    "accuracy, recall, precision, conf_matrix, f1 = calculate_classification_metrics(valid_target, valid_predictions)"
   ]
  },
  {
   "cell_type": "markdown",
   "metadata": {},
   "source": [
    "### Logisitic Regression Classification (Unbalanced)"
   ]
  },
  {
   "cell_type": "code",
   "execution_count": 24,
   "metadata": {},
   "outputs": [
    {
     "name": "stdout",
     "output_type": "stream",
     "text": [
      "Accuracy of the best model: 0.8125\n"
     ]
    }
   ],
   "source": [
    "# Find the best conditions\n",
    "\n",
    "model = LogisticRegression(random_state=24681, solver='liblinear')\n",
    "model.fit(train_features, train_target) \n",
    "valid_predictions = model.predict(valid_features)\n",
    "result = accuracy_score(valid_target, valid_predictions)\n",
    "\n",
    "print(f\"Accuracy of the best model: {result}\")"
   ]
  },
  {
   "cell_type": "code",
   "execution_count": 25,
   "metadata": {},
   "outputs": [
    {
     "name": "stdout",
     "output_type": "stream",
     "text": [
      "Logisitic Regression Classification Scores (Unbalanced):\n",
      "Accuracy: 0.8125\n",
      "Recall: 0.228\n",
      "Precision: 0.6575\n",
      "F1 Score: 0.3386\n",
      "Confusion Matrix:\n",
      "[[1529   50]\n",
      " [ 325   96]]\n"
     ]
    }
   ],
   "source": [
    "# Test the model using validation data\n",
    "\n",
    "model = LogisticRegression(random_state=24681, solver='liblinear')\n",
    "model.fit(train_features, train_target) \n",
    "valid_predictions = model.predict(valid_features)\n",
    "\n",
    "print(f\"Logisitic Regression Classification Scores (Unbalanced):\")\n",
    "accuracy, recall, precision, conf_matrix, f1 = calculate_classification_metrics(valid_target, valid_predictions)"
   ]
  },
  {
   "cell_type": "markdown",
   "metadata": {},
   "source": [
    "## Class Imbalance Observations"
   ]
  },
  {
   "cell_type": "code",
   "execution_count": 26,
   "metadata": {},
   "outputs": [
    {
     "data": {
      "image/png": "[encoded data removed]",
      "text/plain": [
       "<Figure size 640x480 with 1 Axes>"
      ]
     },
     "metadata": {},
     "output_type": "display_data"
    }
   ],
   "source": [
    "# Look for imbalance in train data\n",
    "train_class_split = train_target.value_counts()\n",
    "\n",
    "train_class_split.plot(kind='bar', title='Class Breakdown in Train Dataset', xlabel='Classes', ylabel='Number of Instances')\n",
    "plt.show()"
   ]
  },
  {
   "cell_type": "markdown",
   "metadata": {},
   "source": [
    "It is apparent that there is a notable class imbalance in the training dataset. The minority class should be upsampled to amplify its signal within the training dataset. Additionally, setting the class weights to balanced will enable the model to treat the classes equally during training."
   ]
  },
  {
   "cell_type": "markdown",
   "metadata": {},
   "source": [
    "### Upsampling"
   ]
  },
  {
   "cell_type": "code",
   "execution_count": 27,
   "metadata": {},
   "outputs": [],
   "source": [
    "# Function to upsample \n",
    "\n",
    "def upsample(features, target, repeat):\n",
    "    features_zeros = features[target == 0]\n",
    "    features_ones = features[target == 1]\n",
    "    target_zeros = target[target == 0]\n",
    "    target_ones = target[target == 1]\n",
    "    \n",
    "    features_upsampled = pd.concat([features_zeros] + [features_ones] * repeat)\n",
    "    target_upsampled = pd.concat([target_zeros] + [target_ones] * repeat)\n",
    "\n",
    "    return shuffle(features_upsampled, target_upsampled, random_state=24681)"
   ]
  },
  {
   "cell_type": "code",
   "execution_count": 28,
   "metadata": {},
   "outputs": [],
   "source": [
    "# Upsample the data\n",
    "\n",
    "train_features_upsampled, train_target_upsampled = upsample(train_features, train_target, 6)"
   ]
  },
  {
   "cell_type": "code",
   "execution_count": 29,
   "metadata": {},
   "outputs": [
    {
     "data": {
      "text/plain": [
       "(12005, 11)"
      ]
     },
     "execution_count": 29,
     "metadata": {},
     "output_type": "execute_result"
    }
   ],
   "source": [
    "# Observe new feature data\n",
    "\n",
    "train_features_upsampled.shape"
   ]
  },
  {
   "cell_type": "code",
   "execution_count": 30,
   "metadata": {},
   "outputs": [
    {
     "data": {
      "text/plain": [
       "(12005,)"
      ]
     },
     "execution_count": 30,
     "metadata": {},
     "output_type": "execute_result"
    }
   ],
   "source": [
    "# Observe new target data\n",
    "\n",
    "train_target_upsampled.shape"
   ]
  },
  {
   "cell_type": "markdown",
   "metadata": {},
   "source": [
    "## Initial Training (Balanced)"
   ]
  },
  {
   "cell_type": "markdown",
   "metadata": {},
   "source": [
    "### Decision Tree Classification (Balanced - Class Weights)"
   ]
  },
  {
   "cell_type": "code",
   "execution_count": 31,
   "metadata": {},
   "outputs": [
    {
     "name": "stdout",
     "output_type": "stream",
     "text": [
      "Accuracy of the best model: 0.7895\n",
      "Depth of the best model: 5\n"
     ]
    }
   ],
   "source": [
    "# Find the best conditions\n",
    "\n",
    "best_model = None\n",
    "best_result = 0\n",
    "best_depth = 0\n",
    "\n",
    "for depth in range(1, 21):\n",
    "    model = DecisionTreeClassifier(random_state=24681, max_depth=depth, class_weight='balanced')\n",
    "    model.fit(train_features, train_target)\n",
    "    valid_predictions = model.predict(valid_features)\n",
    "    result = accuracy_score(valid_target, valid_predictions) \n",
    "    \n",
    "    if result > best_result:\n",
    "        best_model = model\n",
    "        best_result = result\n",
    "        best_depth = depth\n",
    "        \n",
    "print(f\"Accuracy of the best model: {best_result}\\nDepth of the best model: {best_depth}\")"
   ]
  },
  {
   "cell_type": "code",
   "execution_count": 32,
   "metadata": {},
   "outputs": [
    {
     "name": "stdout",
     "output_type": "stream",
     "text": [
      "Tree Classifier Scores (Unbalanced):\n",
      "Accuracy: 0.789\n",
      "Recall: 0.5297\n",
      "Precision: 0.4989\n",
      "F1 Score: 0.5138\n",
      "Confusion Matrix:\n",
      "[[1355  224]\n",
      " [ 198  223]]\n"
     ]
    }
   ],
   "source": [
    "# Test the model using validation data\n",
    "\n",
    "model = DecisionTreeClassifier(random_state=24681, max_depth=20, class_weight='balanced')\n",
    "model.fit(train_features, train_target)\n",
    "valid_predictions = model.predict(valid_features)\n",
    "\n",
    "print(f\"Tree Classifier Scores (Unbalanced):\")\n",
    "accuracy, recall, precision, conf_matrix, f1 = calculate_classification_metrics(valid_target, valid_predictions)"
   ]
  },
  {
   "cell_type": "markdown",
   "metadata": {},
   "source": [
    "### Decision Tree Classification (Balanced - Upsampling)"
   ]
  },
  {
   "cell_type": "code",
   "execution_count": 33,
   "metadata": {},
   "outputs": [
    {
     "name": "stdout",
     "output_type": "stream",
     "text": [
      "Accuracy of the best model: 0.7925\n",
      "Depth of the best model: 18\n"
     ]
    }
   ],
   "source": [
    "# Find the best conditions\n",
    "\n",
    "best_model = None\n",
    "best_result = 0\n",
    "best_depth = 0\n",
    "\n",
    "for depth in range(1, 21):\n",
    "    model = DecisionTreeClassifier(random_state=24681, max_depth=depth)\n",
    "    model.fit(train_features_upsampled, train_target_upsampled)\n",
    "    valid_predictions = model.predict(valid_features)\n",
    "    result = accuracy_score(valid_target, valid_predictions) \n",
    "    \n",
    "    if result > best_result:\n",
    "        best_model = model\n",
    "        best_result = result\n",
    "        best_depth = depth\n",
    "        \n",
    "print(f\"Accuracy of the best model: {best_result}\\nDepth of the best model: {best_depth}\")"
   ]
  },
  {
   "cell_type": "code",
   "execution_count": 34,
   "metadata": {},
   "outputs": [
    {
     "name": "stdout",
     "output_type": "stream",
     "text": [
      "Tree Classifier Scores (Balanced using Class Weight):\n",
      "Accuracy: 0.788\n",
      "Recall: 0.5202\n",
      "Precision: 0.4966\n",
      "F1 Score: 0.5081\n",
      "Confusion Matrix:\n",
      "[[1357  222]\n",
      " [ 202  219]]\n"
     ]
    }
   ],
   "source": [
    "# Test the model using validation data\n",
    "\n",
    "model = DecisionTreeClassifier(random_state=24681, max_depth=19)\n",
    "model.fit(train_features_upsampled, train_target_upsampled)\n",
    "valid_predictions = model.predict(valid_features)\n",
    "\n",
    "print(f\"Tree Classifier Scores (Balanced using Class Weight):\")\n",
    "accuracy, recall, precision, conf_matrix, f1 = calculate_classification_metrics(valid_target, valid_predictions)"
   ]
  },
  {
   "cell_type": "markdown",
   "metadata": {},
   "source": [
    "### Random Forest Classification (Balanced - Class Weights)"
   ]
  },
  {
   "cell_type": "code",
   "execution_count": 35,
   "metadata": {},
   "outputs": [
    {
     "name": "stdout",
     "output_type": "stream",
     "text": [
      "Accuracy of the best model: 0.8575\n",
      "Number of estimators of the best model: 19\n"
     ]
    }
   ],
   "source": [
    "# Find the best conditions\n",
    "\n",
    "best_model_forest = None\n",
    "best_result_forest = 0\n",
    "best_est_forest = 0\n",
    "\n",
    "for est in range(1, 20):\n",
    "    model = RandomForestClassifier(random_state=24681, n_estimators=est, class_weight='balanced')\n",
    "    model.fit(train_features, train_target)\n",
    "    valid_predictions = model.predict(valid_features)\n",
    "    result = accuracy_score(valid_target, valid_predictions) \n",
    "    if result > best_result_forest:\n",
    "        best_model_forest = model\n",
    "        best_result_forest = result\n",
    "        best_est_forest = est\n",
    "        \n",
    "print(f\"Accuracy of the best model: {best_result_forest}\\nNumber of estimators of the best model: {est}\")"
   ]
  },
  {
   "cell_type": "code",
   "execution_count": 36,
   "metadata": {},
   "outputs": [
    {
     "name": "stdout",
     "output_type": "stream",
     "text": [
      "Random Forest Classification Scores (Balanced):\n",
      "Accuracy: 0.855\n",
      "Recall: 0.4869\n",
      "Precision: 0.7348\n",
      "F1 Score: 0.5857\n",
      "Confusion Matrix:\n",
      "[[1505   74]\n",
      " [ 216  205]]\n"
     ]
    }
   ],
   "source": [
    "# Test the model using validation data\n",
    "\n",
    "model = RandomForestClassifier(random_state=24681, n_estimators=19, class_weight='balanced')\n",
    "model.fit(train_features, train_target)\n",
    "valid_predictions = model.predict(valid_features)\n",
    "\n",
    "print(f\"Random Forest Classification Scores (Balanced):\")\n",
    "accuracy, recall, precision, conf_matrix, f1 = calculate_classification_metrics(valid_target, valid_predictions)"
   ]
  },
  {
   "cell_type": "markdown",
   "metadata": {},
   "source": [
    "### Random Forest Classification (Balanced - Upsampling)"
   ]
  },
  {
   "cell_type": "code",
   "execution_count": 37,
   "metadata": {},
   "outputs": [
    {
     "name": "stdout",
     "output_type": "stream",
     "text": [
      "Accuracy of the best model: 0.8545\n",
      "Number of estimators of the best model: 19\n"
     ]
    }
   ],
   "source": [
    "# Find the best conditions\n",
    "\n",
    "best_model_forest = None\n",
    "best_result_forest = 0\n",
    "best_est_forest = 0\n",
    "\n",
    "for est in range(1, 20):\n",
    "    model = RandomForestClassifier(random_state=24681, n_estimators=est)\n",
    "    model.fit(train_features_upsampled, train_target_upsampled)\n",
    "    valid_predictions = model.predict(valid_features)\n",
    "    result = accuracy_score(valid_target, valid_predictions) \n",
    "    if result > best_result_forest:\n",
    "        best_model_forest = model\n",
    "        best_result_forest = result\n",
    "        best_est_forest = est\n",
    "        \n",
    "print(f\"Accuracy of the best model: {best_result_forest}\\nNumber of estimators of the best model: {est}\")"
   ]
  },
  {
   "cell_type": "code",
   "execution_count": 38,
   "metadata": {},
   "outputs": [
    {
     "name": "stdout",
     "output_type": "stream",
     "text": [
      "Random Forest Classification Scores (Balanced):\n",
      "Accuracy: 0.8495\n",
      "Recall: 0.6081\n",
      "Precision: 0.6531\n",
      "F1 Score: 0.6298\n",
      "Confusion Matrix:\n",
      "[[1443  136]\n",
      " [ 165  256]]\n"
     ]
    }
   ],
   "source": [
    "# Test the model using validation data\n",
    "\n",
    "model = RandomForestClassifier(random_state=24681, n_estimators=19)\n",
    "model.fit(train_features_upsampled, train_target_upsampled)\n",
    "valid_predictions = model.predict(valid_features)\n",
    "\n",
    "print(f\"Random Forest Classification Scores (Balanced):\")\n",
    "accuracy, recall, precision, conf_matrix, f1 = calculate_classification_metrics(valid_target, valid_predictions)"
   ]
  },
  {
   "cell_type": "markdown",
   "metadata": {},
   "source": [
    "### Logisitic Regression Classification (Balanced - Class Weights)"
   ]
  },
  {
   "cell_type": "code",
   "execution_count": 39,
   "metadata": {},
   "outputs": [
    {
     "name": "stdout",
     "output_type": "stream",
     "text": [
      "Accuracy of the best model: 0.716\n"
     ]
    }
   ],
   "source": [
    "# Find the best conditions\n",
    "\n",
    "model = LogisticRegression(random_state=24681, solver='liblinear', class_weight='balanced')\n",
    "model.fit(train_features, train_target) \n",
    "valid_predictions = model.predict(valid_features)\n",
    "result = accuracy_score(valid_target, valid_predictions)\n",
    "\n",
    "print(f\"Accuracy of the best model: {result}\")"
   ]
  },
  {
   "cell_type": "code",
   "execution_count": 40,
   "metadata": {},
   "outputs": [
    {
     "name": "stdout",
     "output_type": "stream",
     "text": [
      "Logisitic Regression Classification Scores (Balanced):\n",
      "Accuracy: 0.716\n",
      "Recall: 0.7102\n",
      "Precision: 0.4013\n",
      "F1 Score: 0.5129\n",
      "Confusion Matrix:\n",
      "[[1133  446]\n",
      " [ 122  299]]\n"
     ]
    }
   ],
   "source": [
    "# Test the model using validation data\n",
    "\n",
    "model = LogisticRegression(random_state=24681, solver='liblinear', class_weight='balanced')\n",
    "model.fit(train_features, train_target) \n",
    "valid_predictions = model.predict(valid_features)\n",
    "\n",
    "print(f\"Logisitic Regression Classification Scores (Balanced):\")\n",
    "accuracy, recall, precision, conf_matrix, f1 = calculate_classification_metrics(valid_target, valid_predictions)"
   ]
  },
  {
   "cell_type": "markdown",
   "metadata": {},
   "source": [
    "### Logisitic Regression Classification (Balanced - Upsampling)"
   ]
  },
  {
   "cell_type": "code",
   "execution_count": 41,
   "metadata": {},
   "outputs": [
    {
     "name": "stdout",
     "output_type": "stream",
     "text": [
      "Accuracy of the best model: 0.608\n"
     ]
    }
   ],
   "source": [
    "# Find the best conditions\n",
    "\n",
    "model = LogisticRegression(random_state=24681, solver='liblinear')\n",
    "model.fit(train_features_upsampled, train_target_upsampled) \n",
    "valid_predictions = model.predict(valid_features)\n",
    "result = accuracy_score(valid_target, valid_predictions)\n",
    "\n",
    "print(f\"Accuracy of the best model: {result}\")"
   ]
  },
  {
   "cell_type": "code",
   "execution_count": 42,
   "metadata": {},
   "outputs": [
    {
     "name": "stdout",
     "output_type": "stream",
     "text": [
      "Logisitic Regression Classification Scores (Balanced):\n",
      "Accuracy: 0.608\n",
      "Recall: 0.8076\n",
      "Precision: 0.326\n",
      "F1 Score: 0.4645\n",
      "Confusion Matrix:\n",
      "[[876 703]\n",
      " [ 81 340]]\n"
     ]
    }
   ],
   "source": [
    "# Test the model using validation data\n",
    "\n",
    "model = LogisticRegression(random_state=24681, solver='liblinear')\n",
    "model.fit(train_features_upsampled, train_target_upsampled) \n",
    "valid_predictions = model.predict(valid_features)\n",
    "\n",
    "print(f\"Logisitic Regression Classification Scores (Balanced):\")\n",
    "accuracy, recall, precision, conf_matrix, f1 = calculate_classification_metrics(valid_target, valid_predictions)"
   ]
  },
  {
   "cell_type": "markdown",
   "metadata": {},
   "source": [
    "## Observations"
   ]
  },
  {
   "cell_type": "markdown",
   "metadata": {},
   "source": [
    "After conducting training experiments with and without balanced classes, it is evident that the model achieves its best performance when trained on upsampled data. Among the models tested, the Random Forest Model consistently delivered superior results, exhibiting the highest F1 score, and other key metrics under these conditions.\n",
    "\n",
    "In order to ensure that the model reaches the target f1 score, the final model will be trained using balanced classes and upsampled data."
   ]
  },
  {
   "cell_type": "markdown",
   "metadata": {},
   "source": [
    "## Final Testing"
   ]
  },
  {
   "cell_type": "code",
   "execution_count": 43,
   "metadata": {},
   "outputs": [
    {
     "name": "stdout",
     "output_type": "stream",
     "text": [
      "Random Forest Classification Scores (Final):\n",
      "Accuracy: 0.8405\n",
      "Recall: 0.5759\n",
      "Precision: 0.6257\n",
      "F1 Score: 0.5997\n",
      "Confusion Matrix:\n",
      "[[1442  143]\n",
      " [ 176  239]]\n"
     ]
    }
   ],
   "source": [
    "# Test the final modal\n",
    "\n",
    "model = RandomForestClassifier(random_state=24681, n_estimators=19, class_weight='balanced')\n",
    "model.fit(train_features_upsampled, train_target_upsampled)\n",
    "test_predictions = model.predict(test_features) # Use test features, previously completely unused\n",
    "\n",
    "print(f\"Random Forest Classification Scores (Final):\")\n",
    "accuracy, recall, precision, conf_matrix, f1 = calculate_classification_metrics(test_target, test_predictions)"
   ]
  },
  {
   "cell_type": "code",
   "execution_count": 44,
   "metadata": {},
   "outputs": [
    {
     "data": {
      "image/png": "[encoded data removed]",
      "text/plain": [
       "<Figure size 1200x800 with 1 Axes>"
      ]
     },
     "metadata": {},
     "output_type": "display_data"
    },
    {
     "name": "stdout",
     "output_type": "stream",
     "text": [
      "The ROC-AUC score final model: 0.833\n"
     ]
    }
   ],
   "source": [
    "# Plot the ROC Curve\n",
    "probabilities_test = model.predict_proba(test_features)\n",
    "probabilities_one_test = probabilities_test[:, 1]\n",
    "\n",
    "fpr, tpr, thresholds = roc_curve(test_target, probabilities_one_test)\n",
    "auc_score = roc_auc_score(test_target, probabilities_one_test)\n",
    "\n",
    "plt.figure(figsize=(12, 8))\n",
    "plt.plot(fpr, tpr)\n",
    "plt.plot([0, 1], [0, 1], linestyle='--')\n",
    "plt.xlim([0.0, 1.0])\n",
    "plt.ylim([0.0, 1.0])\n",
    "plt.ylabel('True Positive Rate')\n",
    "plt.xlabel('False Positive Rate')\n",
    "plt.title(\"ROC Curve for Test Data\")\n",
    "plt.show()\n",
    "\n",
    "print(f\"The ROC-AUC score final model: {round(auc_score, 4)}\")"
   ]
  },
  {
   "cell_type": "markdown",
   "metadata": {},
   "source": [
    "The final model was trained using upsampled data with balanced classes, which were identified as the optimal conditions for training. The model was then tested using previously unused testing features and targets. During testing, the model achieved an accuracy of 84.2%, with a recall of 57.5% and a precision of 62.5%. These metrics indicate that the model performs above average and is precise in identifying true positives.\n",
    "\n",
    "Furthermore, the F1 score for the model stands at 59.9%, demonstrating a balanced performance between precision and recall. Additionally, the model has an area under the ROC curve (AUC-ROC) of 83.3%, indicating its ability to distinguish between positive and negative instances across various thresholds."
   ]
  },
  {
   "cell_type": "markdown",
   "metadata": {},
   "source": [
    "## Conclusion"
   ]
  },
  {
   "cell_type": "markdown",
   "metadata": {},
   "source": [
    "The goal of this project was to utilize historical customer behavior and termination patterns to predict the likelihood of customer attrition. By accurately identifying at-risk customers, Beta Bank can proactively implement retention strategies to safeguard its customer base and optimize operational efficiency.\n",
    "\n",
    "The primary performance metrics used to evaluate the predictive model included the F1 score, which balances precision and recall to ensure reliable churn identification, and the AUC-ROC metric, which measures the model's ability to distinguish between churn and non-churn instances across various decision thresholds.\n",
    "\n",
    "The outcome of this initiative is a robust predictive tool, with the Random Forest Model trained on upsampled data and balanced classes emerging as the most effective solution. This model achieved notable accuracy, recall, precision, F1 score, and AUC-ROC metrics when tested on unseen data, demonstrating its efficiency in identifying at-risk customers.\n",
    "\n",
    "Key insights from the project highlight the importance of addressing class imbalance through upsampling and using balanced classes during model training. Among the models tested, the Random Forest Model consistently outperformed others, demonstrating superior accuracy, precision, recall, F1 score, and AUC-ROC.\n",
    "\n",
    "When evaluated on unseen data, the final model achieved an accuracy of 84.2%, with a recall of 57.5% and a precision of 62.5%. The F1 score of 59.9% indicates a balanced trade-off between precision and recall, and the AUC-ROC score of 83.3% confirms the model's effectiveness in distinguishing between churn and non-churn instances.\n",
    "\n",
    "In summary, the developed predictive model equips Beta Bank with actionable insights to proactively manage customer retention, fostering long-term customer relationships and enhancing the bank's competitiveness. Future work could focus on further optimizing and integrating the model into Beta Bank's operational workflows to maximize its impact on reducing customer churn."
   ]
  }
 ],
 "metadata": {
  "kernelspec": {
   "display_name": "Python 3 (ipykernel)",
   "language": "python",
   "name": "python3"
  },
  "language_info": {
   "codemirror_mode": {
    "name": "ipython",
    "version": 3
   },
   "file_extension": ".py",
   "mimetype": "text/x-python",
   "name": "python",
   "nbconvert_exporter": "python",
   "pygments_lexer": "ipython3",
   "version": "3.11.7"
  },
  "toc": {
   "base_numbering": 1,
   "nav_menu": {},
   "number_sections": true,
   "sideBar": true,
   "skip_h1_title": true,
   "title_cell": "Table of Contents",
   "title_sidebar": "Contents",
   "toc_cell": false,
   "toc_position": {},
   "toc_section_display": true,
   "toc_window_display": false
  }
 },
 "nbformat": 4,
 "nbformat_minor": 2
}
